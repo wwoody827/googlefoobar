{
 "cells": [
  {
   "cell_type": "code",
   "execution_count": 192,
   "metadata": {},
   "outputs": [],
   "source": [
    "from fractions import Fraction, gcd\n",
    "def answer(m):\n",
    "    # your code here\n",
    "    numofstates = len(m)\n",
    "    transitionmatrix = []\n",
    "    absorbingstate = []\n",
    "    transitionstate = []\n",
    "    transitionmatrix_transist = []\n",
    "    for n in range(numofstates):\n",
    "        probsum = sum(m[n])\n",
    "        if probsum == 0:\n",
    "            absorbingstate.append(n)\n",
    "        else:\n",
    "            transitionstate.append(n)\n",
    "            prob = []\n",
    "            for s in range(numofstates):\n",
    "                prob.append(Fraction(m[n][s], probsum))\n",
    "            transitionmatrix_transist.append(prob)\n",
    "            \n",
    "    # After moving all terminal states to end, we need to move all elements in\n",
    "    # transistionmatring too\n",
    "    \n",
    "    # table to record \n",
    "    exchange_table = transitionstate + absorbingstate\n",
    "#     print(exchange_table)\n",
    "    i = 0\n",
    "    for n in range(len(transitionstate)):\n",
    "        temp = list(transitionmatrix_transist[n])\n",
    "        for s in range(numofstates):\n",
    "            \n",
    "            transitionmatrix_transist[n][s] = temp[exchange_table[s]] \n",
    "        \n",
    "    transitionmatrix = list(transitionmatrix_transist)\n",
    "    for n in range(len(absorbingstate)):\n",
    "        zeros = [0] * numofstates\n",
    "        zeros[n + numofstates - len(absorbingstate)] = 1\n",
    "        transitionmatrix.append(zeros)\n",
    "                \n",
    "#     for p in transitionmatrix:\n",
    "#         print([float(a) for a in p])\n",
    "        \n",
    "    Q = []\n",
    "    for n in range(numofstates - len(absorbingstate)):\n",
    "        Q.append(transitionmatrix[n][0:(numofstates - len(absorbingstate))])\n",
    "    if len(Q) == 0:\n",
    "        output = [0] * numofstates\n",
    "        output[0] = 1\n",
    "        output.append(1)\n",
    "        return output\n",
    "       \n",
    "        \n",
    "    R = []\n",
    "    for n in range(numofstates - len(absorbingstate)):\n",
    "        R.append(transitionmatrix[n][(numofstates - len(absorbingstate)):])\n",
    "        \n",
    "#     for p in Q:\n",
    "#         print([float(a) for a in p])\n",
    "        \n",
    "#     for p in R:\n",
    "#         print([float(a) for a in p])\n",
    "    \n",
    "    IminusQ = []\n",
    "    for s in range(len(Q)):\n",
    "        IminusQ.append([-i for i in Q[s]])\n",
    "        IminusQ[s][s] = IminusQ[s][s] + 1\n",
    "        \n",
    "    N = inverse_mat(IminusQ)\n",
    "    \n",
    "    FinalProb = [0] * len(absorbingstate)\n",
    "    for i in range(len(absorbingstate)):\n",
    "        for j in range(numofstates - len(absorbingstate)):\n",
    "            FinalProb[i] = FinalProb[i] + N[0][j] * R[j][i]\n",
    "            \n",
    "    numerators = [p.numerator for p in FinalProb]\n",
    "    denominators = [p.denominator for p in FinalProb]\n",
    "    denominator_lcm = 0\n",
    "    if len(denominators)==1:\n",
    "        denominator_lcm = denominators[0]\n",
    "    elif len(denominators)==2:\n",
    "        denominator_lcm = lcm(denominators[0], denominators[1])\n",
    "    else:\n",
    "        denominator_lcm = lcm(denominators[0], denominators[1])\n",
    "        for n in range(1, len(denominators)):\n",
    "            denominator_lcm = lcm(denominator_lcm, denominators[n])\n",
    "    # print(denominator_lcm)\n",
    "    \n",
    "    output = []\n",
    "    for n in range(len(numerators)):\n",
    "        output.append(denominator_lcm/denominators[n] * numerators[n])\n",
    "    output.append(denominator_lcm)\n",
    "    return output\n",
    "    \n",
    "    \n",
    "def lcm(a, b):\n",
    "    a = int(a)\n",
    "    b = int(b)\n",
    "    gcdofab = gcd(a, b)\n",
    "    return a*b/gcdofab\n",
    "    \n",
    "def transposeMatrix(m):\n",
    "    t = []\n",
    "    for r in range(len(m)):\n",
    "        tRow = []\n",
    "        for c in range(len(m[r])):\n",
    "            if c == r:\n",
    "                tRow.append(m[r][c])\n",
    "            else:\n",
    "                tRow.append(m[c][r])\n",
    "        t.append(tRow)\n",
    "    return t\n",
    "\n",
    "def getMatrixMinor(m,i,j):\n",
    "    return [row[:j] + row[j+1:] for row in (m[:i]+m[i+1:])]\n",
    "\n",
    "def det_mat(mat):\n",
    "    #base case for 2x2 matrix\n",
    "    if len(mat) == 1:\n",
    "        return mat[0][0]\n",
    "    if len(mat) == 2:\n",
    "        return mat[0][0]*mat[1][1]-mat[0][1]*mat[1][0]\n",
    "\n",
    "    determinant = 0\n",
    "    for c in range(len(mat)):\n",
    "        determinant += ((-1)**c)*mat[0][c]*det_mat(getMatrixMinor(mat,0,c))\n",
    "    return determinant\n",
    "    \n",
    "def inverse_mat(m):\n",
    "    determinant = det_mat(m)\n",
    "    #special case for 2x2 matrix:\n",
    "    if len(m) == 1:\n",
    "        return [[1/m[0][0]]]\n",
    "    if len(m) == 2:\n",
    "        return [[m[1][1]/determinant, -1*m[0][1]/determinant],\n",
    "                [-1*m[1][0]/determinant, m[0][0]/determinant]]\n",
    "\n",
    "    #find matrix of cofactors\n",
    "    cofactors = []\n",
    "    for r in range(len(m)):\n",
    "        cofactorRow = []\n",
    "        for c in range(len(m)):\n",
    "            minor = getMatrixMinor(m,r,c)\n",
    "            cofactorRow.append(((-1)**(r+c)) * det_mat(minor))\n",
    "        cofactors.append(cofactorRow)\n",
    "    cofactors = transposeMatrix(cofactors)\n",
    "    for r in range(len(cofactors)):\n",
    "        for c in range(len(cofactors)):\n",
    "            cofactors[r][c] = cofactors[r][c]/determinant\n",
    "    return cofactors\n",
    "                \n",
    " "
   ]
  },
  {
   "cell_type": "code",
   "execution_count": 193,
   "metadata": {},
   "outputs": [
    {
     "data": {
      "text/plain": [
       "[2, 1, 1, 1, 1, 6]"
      ]
     },
     "execution_count": 193,
     "metadata": {},
     "output_type": "execute_result"
    }
   ],
   "source": [
    "answer([\n",
    "        [1, 1, 1, 0, 1, 0, 1, 0, 1, 0],\n",
    "        [0, 0, 0, 0, 0, 0, 0, 0, 0, 0],\n",
    "        [1, 0, 1, 1, 1, 0, 1, 0, 1, 0],\n",
    "        [0, 0, 0, 0, 0, 0, 0, 0, 0, 0],\n",
    "        [1, 0, 1, 0, 1, 1, 1, 0, 1, 0],\n",
    "        [0, 0, 0, 0, 0, 0, 0, 0, 0, 0],\n",
    "        [1, 0, 1, 0, 1, 0, 1, 1, 1, 0],\n",
    "        [0, 0, 0, 0, 0, 0, 0, 0, 0, 0],\n",
    "        [1, 0, 1, 0, 1, 0, 1, 0, 1, 1],\n",
    "        [0, 0, 0, 0, 0, 0, 0, 0, 0, 0]\n",
    "    ])"
   ]
  },
  {
   "cell_type": "code",
   "execution_count": 176,
   "metadata": {},
   "outputs": [
    {
     "data": {
      "text/plain": [
       "[1, 0, 0, 0, 0, 0, 1]"
      ]
     },
     "execution_count": 176,
     "metadata": {},
     "output_type": "execute_result"
    }
   ],
   "source": [
    "mat=[\n",
    "  [1,1,1,3,4,1,1,2],  \n",
    "  [4,1,3,3,2,3,0,4], \n",
    "  [0,0,0,1,0,0,8,9], \n",
    "  [0,0,3,0,0,0,0,0],\n",
    "  [0,0,0,0,0,0,0,0], # terminal\n",
    "  [0,0,0,0,0,0,0,0],  # terminal\n",
    "  [0,0,0,0,0,0,0,0],  # terminal\n",
    "  [0,0,0,0,0,0,0,0],  # terminal\n",
    "]\n",
    "\n",
    "# mat = [[0, 2, 1, 0, 0],\n",
    "#        [0, 0, 0, 3, 4],\n",
    "#        [0, 0, 0, 0, 0],\n",
    "#        [0, 0, 0, 0, 0],\n",
    "#        [0, 0, 0, 0, 0]\n",
    "#       ]\n",
    "\n",
    "# mat = [[0, 2, 1, 0, 0],\n",
    "#        [0, 0, 0, 3, 4],\n",
    "#        [1, 1, 0, 0, 1],\n",
    "#        [0, 0, 1, 0, 1],\n",
    "#        [0, 0, 0, 0, 0]\n",
    "#       ]\n",
    "mat = [[0, 1, 0, 0, 0, 1],\n",
    "       [4, 0, 0, 3, 2, 0],\n",
    "       [0, 0, 0, 0, 0, 0],\n",
    "       [0, 0, 0, 0, 0, 0],\n",
    "       [0, 0, 0, 0, 0, 0],\n",
    "       [0, 0, 0, 0, 0, 0]\n",
    "      ]\n",
    "       \n",
    "mat = [[0, 0, 0, 0, 0, 0],\n",
    "       [0, 0, 0, 0, 0, 0],\n",
    "       [0, 0, 0, 0, 0, 0],\n",
    "       [0, 0, 0, 0, 0, 0],\n",
    "       [0, 0, 0, 0, 0, 0],\n",
    "       [0, 0, 0, 0, 0, 0]\n",
    "      ]\n",
    "answer(mat)"
   ]
  },
  {
   "cell_type": "code",
   "execution_count": 177,
   "metadata": {},
   "outputs": [
    {
     "data": {
      "text/plain": [
       "[7, 6, 8, 21]"
      ]
     },
     "execution_count": 177,
     "metadata": {},
     "output_type": "execute_result"
    }
   ],
   "source": [
    "mat=[\n",
    "        [0, 2, 1, 0, 0],\n",
    "        [0, 0, 0, 3, 4],\n",
    "        [0, 0, 0, 0, 0],\n",
    "        [0, 0, 0, 0, 0],\n",
    "        [0, 0, 0, 0, 0]\n",
    "    ]\n",
    "\n",
    "answer(mat)"
   ]
  },
  {
   "cell_type": "code",
   "execution_count": 178,
   "metadata": {},
   "outputs": [
    {
     "data": {
      "text/plain": [
       "[0, 3, 2, 9, 14]"
      ]
     },
     "execution_count": 178,
     "metadata": {},
     "output_type": "execute_result"
    }
   ],
   "source": [
    "mat=[\n",
    "        [0, 1, 0, 0, 0, 1],\n",
    "        [4, 0, 0, 3, 2, 0],\n",
    "        [0, 0, 0, 0, 0, 0],\n",
    "        [0, 0, 0, 0, 0, 0],\n",
    "        [0, 0, 0, 0, 0, 0],\n",
    "        [0, 0, 0, 0, 0, 0]\n",
    "    ]\n",
    "\n",
    "answer(mat)"
   ]
  },
  {
   "cell_type": "code",
   "execution_count": 179,
   "metadata": {},
   "outputs": [
    {
     "data": {
      "text/plain": [
       "[1, 2, 3]"
      ]
     },
     "execution_count": 179,
     "metadata": {},
     "output_type": "execute_result"
    }
   ],
   "source": [
    "mat=[\n",
    "        [1, 2, 3, 0, 0, 0],\n",
    "        [4, 5, 6, 0, 0, 0],\n",
    "        [7, 8, 9, 1, 0, 0],\n",
    "        [0, 0, 0, 0, 1, 2],\n",
    "        [0, 0, 0, 0, 0, 0],\n",
    "        [0, 0, 0, 0, 0, 0]\n",
    "    ]\n",
    "\n",
    "answer(mat)"
   ]
  },
  {
   "cell_type": "code",
   "execution_count": 180,
   "metadata": {},
   "outputs": [
    {
     "data": {
      "text/plain": [
       "[1, 1]"
      ]
     },
     "execution_count": 180,
     "metadata": {},
     "output_type": "execute_result"
    }
   ],
   "source": [
    "mat=[[0]\n",
    "    ]\n",
    "\n",
    "answer(mat)"
   ]
  },
  {
   "cell_type": "code",
   "execution_count": 181,
   "metadata": {},
   "outputs": [
    {
     "data": {
      "text/plain": [
       "[1, 2, 3, 4, 5, 15]"
      ]
     },
     "execution_count": 181,
     "metadata": {},
     "output_type": "execute_result"
    }
   ],
   "source": [
    "mat=[\n",
    "        [0, 0, 12, 0, 15, 0, 0, 0, 1, 8],\n",
    "        [0, 0, 60, 0, 0, 7, 13, 0, 0, 0],\n",
    "        [0, 15, 0, 8, 7, 0, 0, 1, 9, 0],\n",
    "        [23, 0, 0, 0, 0, 1, 0, 0, 0, 0],\n",
    "        [37, 35, 0, 0, 0, 0, 3, 21, 0, 0],\n",
    "        [0, 0, 0, 0, 0, 0, 0, 0, 0, 0],\n",
    "        [0, 0, 0, 0, 0, 0, 0, 0, 0, 0],\n",
    "        [0, 0, 0, 0, 0, 0, 0, 0, 0, 0],\n",
    "        [0, 0, 0, 0, 0, 0, 0, 0, 0, 0],\n",
    "        [0, 0, 0, 0, 0, 0, 0, 0, 0, 0]\n",
    "    ]\n",
    "\n",
    "answer(mat)"
   ]
  },
  {
   "cell_type": "code",
   "execution_count": 182,
   "metadata": {},
   "outputs": [],
   "source": [
    "assert (\n",
    "    answer([\n",
    "        [1, 1, 1, 1, 1, 1, 1, 1, 1, 1],\n",
    "        [0, 0, 0, 0, 0, 0, 0, 0, 0, 0],\n",
    "        [1, 1, 1, 1, 1, 1, 1, 1, 1, 1],\n",
    "        [0, 0, 0, 0, 0, 0, 0, 0, 0, 0],\n",
    "        [1, 1, 1, 1, 1, 1, 1, 1, 1, 1],\n",
    "        [0, 0, 0, 0, 0, 0, 0, 0, 0, 0],\n",
    "        [1, 1, 1, 1, 1, 1, 1, 1, 1, 1],\n",
    "        [0, 0, 0, 0, 0, 0, 0, 0, 0, 0],\n",
    "        [1, 1, 1, 1, 1, 1, 1, 1, 1, 1],\n",
    "        [0, 0, 0, 0, 0, 0, 0, 0, 0, 0]\n",
    "    ]) == [1, 1, 1, 1, 1, 5]\n",
    ")"
   ]
  },
  {
   "cell_type": "code",
   "execution_count": 183,
   "metadata": {},
   "outputs": [
    {
     "ename": "AssertionError",
     "evalue": "",
     "output_type": "error",
     "traceback": [
      "\u001b[0;31m---------------------------------------------------------------------------\u001b[0m",
      "\u001b[0;31mAssertionError\u001b[0m                            Traceback (most recent call last)",
      "\u001b[0;32m<ipython-input-183-b4460a9e6362>\u001b[0m in \u001b[0;36m<module>\u001b[0;34m()\u001b[0m\n\u001b[1;32m     93\u001b[0m         \u001b[0;34m[\u001b[0m\u001b[0;36m1\u001b[0m\u001b[0;34m,\u001b[0m \u001b[0;36m0\u001b[0m\u001b[0;34m,\u001b[0m \u001b[0;36m1\u001b[0m\u001b[0;34m,\u001b[0m \u001b[0;36m0\u001b[0m\u001b[0;34m,\u001b[0m \u001b[0;36m1\u001b[0m\u001b[0;34m,\u001b[0m \u001b[0;36m0\u001b[0m\u001b[0;34m,\u001b[0m \u001b[0;36m1\u001b[0m\u001b[0;34m,\u001b[0m \u001b[0;36m0\u001b[0m\u001b[0;34m,\u001b[0m \u001b[0;36m1\u001b[0m\u001b[0;34m,\u001b[0m \u001b[0;36m1\u001b[0m\u001b[0;34m]\u001b[0m\u001b[0;34m,\u001b[0m\u001b[0;34m\u001b[0m\u001b[0m\n\u001b[1;32m     94\u001b[0m         \u001b[0;34m[\u001b[0m\u001b[0;36m0\u001b[0m\u001b[0;34m,\u001b[0m \u001b[0;36m0\u001b[0m\u001b[0;34m,\u001b[0m \u001b[0;36m0\u001b[0m\u001b[0;34m,\u001b[0m \u001b[0;36m0\u001b[0m\u001b[0;34m,\u001b[0m \u001b[0;36m0\u001b[0m\u001b[0;34m,\u001b[0m \u001b[0;36m0\u001b[0m\u001b[0;34m,\u001b[0m \u001b[0;36m0\u001b[0m\u001b[0;34m,\u001b[0m \u001b[0;36m0\u001b[0m\u001b[0;34m,\u001b[0m \u001b[0;36m0\u001b[0m\u001b[0;34m,\u001b[0m \u001b[0;36m0\u001b[0m\u001b[0;34m]\u001b[0m\u001b[0;34m\u001b[0m\u001b[0m\n\u001b[0;32m---> 95\u001b[0;31m     ]) == [2, 1, 1, 1, 1, 6]\n\u001b[0m\u001b[1;32m     96\u001b[0m )\n\u001b[1;32m     97\u001b[0m \u001b[0;34m\u001b[0m\u001b[0m\n",
      "\u001b[0;31mAssertionError\u001b[0m: "
     ]
    }
   ],
   "source": [
    "assert (\n",
    "    answer([\n",
    "        [0, 2, 1, 0, 0],\n",
    "        [0, 0, 0, 3, 4],\n",
    "        [0, 0, 0, 0, 0],\n",
    "        [0, 0, 0, 0, 0],\n",
    "        [0, 0, 0, 0, 0]\n",
    "    ]) == [7, 6, 8, 21]\n",
    ")\n",
    "\n",
    "assert (\n",
    "    answer([\n",
    "        [0, 1, 0, 0, 0, 1],\n",
    "        [4, 0, 0, 3, 2, 0],\n",
    "        [0, 0, 0, 0, 0, 0],\n",
    "        [0, 0, 0, 0, 0, 0],\n",
    "        [0, 0, 0, 0, 0, 0],\n",
    "        [0, 0, 0, 0, 0, 0]\n",
    "    ]) == [0, 3, 2, 9, 14]\n",
    ")\n",
    "\n",
    "assert (\n",
    "    answer([\n",
    "        [1, 2, 3, 0, 0, 0],\n",
    "        [4, 5, 6, 0, 0, 0],\n",
    "        [7, 8, 9, 1, 0, 0],\n",
    "        [0, 0, 0, 0, 1, 2],\n",
    "        [0, 0, 0, 0, 0, 0],\n",
    "        [0, 0, 0, 0, 0, 0]\n",
    "    ]) == [1, 2, 3]\n",
    ")\n",
    "assert (\n",
    "    answer([\n",
    "        [0]\n",
    "    ]) == [1, 1]\n",
    ")\n",
    "\n",
    "assert (\n",
    "    answer([\n",
    "        [0, 0, 12, 0, 15, 0, 0, 0, 1, 8],\n",
    "        [0, 0, 60, 0, 0, 7, 13, 0, 0, 0],\n",
    "        [0, 15, 0, 8, 7, 0, 0, 1, 9, 0],\n",
    "        [23, 0, 0, 0, 0, 1, 0, 0, 0, 0],\n",
    "        [37, 35, 0, 0, 0, 0, 3, 21, 0, 0],\n",
    "        [0, 0, 0, 0, 0, 0, 0, 0, 0, 0],\n",
    "        [0, 0, 0, 0, 0, 0, 0, 0, 0, 0],\n",
    "        [0, 0, 0, 0, 0, 0, 0, 0, 0, 0],\n",
    "        [0, 0, 0, 0, 0, 0, 0, 0, 0, 0],\n",
    "        [0, 0, 0, 0, 0, 0, 0, 0, 0, 0]\n",
    "    ]) == [1, 2, 3, 4, 5, 15]\n",
    ")\n",
    "\n",
    "assert (\n",
    "    answer([\n",
    "        [0, 7, 0, 17, 0, 1, 0, 5, 0, 2],\n",
    "        [0, 0, 29, 0, 28, 0, 3, 0, 16, 0],\n",
    "        [0, 3, 0, 0, 0, 1, 0, 0, 0, 0],\n",
    "        [48, 0, 3, 0, 0, 0, 17, 0, 0, 0],\n",
    "        [0, 6, 0, 0, 0, 1, 0, 0, 0, 0],\n",
    "        [0, 0, 0, 0, 0, 0, 0, 0, 0, 0],\n",
    "        [0, 0, 0, 0, 0, 0, 0, 0, 0, 0],\n",
    "        [0, 0, 0, 0, 0, 0, 0, 0, 0, 0],\n",
    "        [0, 0, 0, 0, 0, 0, 0, 0, 0, 0],\n",
    "        [0, 0, 0, 0, 0, 0, 0, 0, 0, 0]\n",
    "    ]) == [4, 5, 5, 4, 2, 20]\n",
    ")\n",
    "\n",
    "assert (\n",
    "    answer([\n",
    "        [1, 1, 1, 1, 1, 1, 1, 1, 1, 1],\n",
    "        [0, 0, 0, 0, 0, 0, 0, 0, 0, 0],\n",
    "        [1, 1, 1, 1, 1, 1, 1, 1, 1, 1],\n",
    "        [0, 0, 0, 0, 0, 0, 0, 0, 0, 0],\n",
    "        [1, 1, 1, 1, 1, 1, 1, 1, 1, 1],\n",
    "        [0, 0, 0, 0, 0, 0, 0, 0, 0, 0],\n",
    "        [1, 1, 1, 1, 1, 1, 1, 1, 1, 1],\n",
    "        [0, 0, 0, 0, 0, 0, 0, 0, 0, 0],\n",
    "        [1, 1, 1, 1, 1, 1, 1, 1, 1, 1],\n",
    "        [0, 0, 0, 0, 0, 0, 0, 0, 0, 0]\n",
    "    ]) == [1, 1, 1, 1, 1, 5]\n",
    ")\n",
    "\n",
    "assert (\n",
    "    answer([\n",
    "        [1, 1, 1, 0, 1, 0, 1, 0, 1, 0],\n",
    "        [0, 0, 0, 0, 0, 0, 0, 0, 0, 0],\n",
    "        [1, 0, 1, 1, 1, 0, 1, 0, 1, 0],\n",
    "        [0, 0, 0, 0, 0, 0, 0, 0, 0, 0],\n",
    "        [1, 0, 1, 0, 1, 1, 1, 0, 1, 0],\n",
    "        [0, 0, 0, 0, 0, 0, 0, 0, 0, 0],\n",
    "        [1, 0, 1, 0, 1, 0, 1, 1, 1, 0],\n",
    "        [0, 0, 0, 0, 0, 0, 0, 0, 0, 0],\n",
    "        [1, 0, 1, 0, 1, 0, 1, 0, 1, 1],\n",
    "        [0, 0, 0, 0, 0, 0, 0, 0, 0, 0]\n",
    "    ]) == [2, 1, 1, 1, 1, 6]\n",
    ")\n",
    "\n",
    "assert (\n",
    "    answer([\n",
    "        [0, 86, 61, 189, 0, 18, 12, 33, 66, 39],\n",
    "        [0, 0, 2, 0, 0, 1, 0, 0, 0, 0],\n",
    "        [15, 187, 0, 0, 18, 23, 0, 0, 0, 0],\n",
    "        [1, 0, 0, 0, 0, 0, 0, 0, 0, 0],\n",
    "        [0, 0, 0, 0, 0, 0, 0, 0, 0, 0],\n",
    "        [0, 0, 0, 0, 0, 0, 0, 0, 0, 0],\n",
    "        [0, 0, 0, 0, 0, 0, 0, 0, 0, 0],\n",
    "        [0, 0, 0, 0, 0, 0, 0, 0, 0, 0],\n",
    "        [0, 0, 0, 0, 0, 0, 0, 0, 0, 0],\n",
    "        [0, 0, 0, 0, 0, 0, 0, 0, 0, 0]\n",
    "    ]) == [6, 44, 4, 11, 22, 13, 100]\n",
    ")\n",
    "\n",
    "assert (\n",
    "    answer([\n",
    "        [0, 0, 0, 0, 3, 5, 0, 0, 0, 2],\n",
    "        [0, 0, 4, 0, 0, 0, 1, 0, 0, 0],\n",
    "        [0, 0, 0, 4, 4, 0, 0, 0, 1, 1],\n",
    "        [13, 0, 0, 0, 0, 0, 2, 0, 0, 0],\n",
    "        [0, 1, 8, 7, 0, 0, 0, 1, 3, 0],\n",
    "        [1, 7, 0, 0, 0, 0, 0, 2, 0, 0],\n",
    "        [0, 0, 0, 0, 0, 0, 0, 0, 0, 0],\n",
    "        [0, 0, 0, 0, 0, 0, 0, 0, 0, 0],\n",
    "        [0, 0, 0, 0, 0, 0, 0, 0, 0, 0],\n",
    "        [0, 0, 0, 0, 0, 0, 0, 0, 0, 0]\n",
    "    ]) == [1, 1, 1, 2, 5]\n",
    ")"
   ]
  },
  {
   "cell_type": "code",
   "execution_count": 184,
   "metadata": {},
   "outputs": [
    {
     "data": {
      "text/plain": [
       "[6, 6, 6, 6, 1, 6]"
      ]
     },
     "execution_count": 184,
     "metadata": {},
     "output_type": "execute_result"
    }
   ],
   "source": [
    "answer([\n",
    "        [1, 1, 1, 0, 1, 0, 1, 0, 1, 0],\n",
    "        [0, 0, 0, 0, 0, 0, 0, 0, 0, 0],\n",
    "        [1, 0, 1, 1, 1, 0, 1, 0, 1, 0],\n",
    "        [0, 0, 0, 0, 0, 0, 0, 0, 0, 0],\n",
    "        [1, 0, 1, 0, 1, 1, 1, 0, 1, 0],\n",
    "        [0, 0, 0, 0, 0, 0, 0, 0, 0, 0],\n",
    "        [1, 0, 1, 0, 1, 0, 1, 1, 1, 0],\n",
    "        [0, 0, 0, 0, 0, 0, 0, 0, 0, 0],\n",
    "        [1, 0, 1, 0, 1, 0, 1, 0, 1, 1],\n",
    "        [0, 0, 0, 0, 0, 0, 0, 0, 0, 0]\n",
    "    ])"
   ]
  },
  {
   "cell_type": "code",
   "execution_count": null,
   "metadata": {
    "collapsed": true
   },
   "outputs": [],
   "source": []
  },
  {
   "cell_type": "code",
   "execution_count": null,
   "metadata": {
    "collapsed": true
   },
   "outputs": [],
   "source": []
  }
 ],
 "metadata": {
  "kernelspec": {
   "display_name": "Python 2",
   "language": "python",
   "name": "python2"
  },
  "language_info": {
   "codemirror_mode": {
    "name": "ipython",
    "version": 2
   },
   "file_extension": ".py",
   "mimetype": "text/x-python",
   "name": "python",
   "nbconvert_exporter": "python",
   "pygments_lexer": "ipython2",
   "version": "2.7.13"
  }
 },
 "nbformat": 4,
 "nbformat_minor": 2
}
