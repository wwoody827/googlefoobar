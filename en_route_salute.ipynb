{
 "cells": [
  {
   "cell_type": "code",
   "execution_count": 16,
   "metadata": {
    "collapsed": true
   },
   "outputs": [],
   "source": [
    "def answer(s):\n",
    "    s_list = list(s)\n",
    "    # print(s_list)\n",
    "    pos_right = []\n",
    "    pos_left = []\n",
    "    for n in range(len(s_list)):\n",
    "        slot = s_list[n]\n",
    "        if slot == '>':\n",
    "            pos_right.append(n)\n",
    "        if slot == '<':\n",
    "            pos_left.append(n)\n",
    "    # print(pos_right)\n",
    "    number_of_salute = 0\n",
    "    for right in pos_right:\n",
    "        salute_to_this_guy = sum(i > right for i in pos_left)\n",
    "        number_of_salute = number_of_salute + salute_to_this_guy\n",
    "    return number_of_salute * 2\n",
    "\n"
   ]
  },
  {
   "cell_type": "code",
   "execution_count": 17,
   "metadata": {},
   "outputs": [
    {
     "data": {
      "text/plain": [
       "4"
      ]
     },
     "execution_count": 17,
     "metadata": {},
     "output_type": "execute_result"
    }
   ],
   "source": [
    "s = '--><-'\n",
    "s = '<<>><'\n",
    "answer(s)"
   ]
  },
  {
   "cell_type": "code",
   "execution_count": null,
   "metadata": {
    "collapsed": true
   },
   "outputs": [],
   "source": []
  }
 ],
 "metadata": {
  "kernelspec": {
   "display_name": "Python 2",
   "language": "python",
   "name": "python2"
  },
  "language_info": {
   "codemirror_mode": {
    "name": "ipython",
    "version": 2
   },
   "file_extension": ".py",
   "mimetype": "text/x-python",
   "name": "python",
   "nbconvert_exporter": "python",
   "pygments_lexer": "ipython2",
   "version": "2.7.13"
  }
 },
 "nbformat": 4,
 "nbformat_minor": 2
}
