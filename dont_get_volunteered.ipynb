{
 "cells": [
  {
   "cell_type": "code",
   "execution_count": 24,
   "metadata": {
    "collapsed": true
   },
   "outputs": [],
   "source": [
    "import math\n",
    "import Queue\n",
    "def answer(src, dest):\n",
    "    # your code here\n",
    "    graph = generate_chess_graph(size_of_chessboard = 8)\n",
    "#     for n in range(len(graph)):\n",
    "#         print(n, graph[n])\n",
    "    step = bfs(src,dest,graph)\n",
    "    return step\n",
    "    \n",
    "\n",
    "def num2index(num, size_of_chessboard = 8):\n",
    "    num = int(num)\n",
    "    return num/size_of_chessboard, num%size_of_chessboard\n",
    "\n",
    "def index2num(i, j, size_of_chessboard = 8):\n",
    "    return int(i * size_of_chessboard + j)\n",
    "\n",
    "    \n",
    "def generate_chess_graph(size_of_chessboard = 8):\n",
    "    \"\"\" generate a graph of a size size_of_chessboard chess board\n",
    "\n",
    "        Returns:\n",
    "        # graph is in adjacent list representation\n",
    "    \"\"\"\n",
    "    knight_moves_i = [-2, -2, 2, 2, -1, -1, 1, 1]\n",
    "    knight_moves_j = [1,  -1, 1, -1, 2, -2, 2, -2]\n",
    "    \n",
    "    size_of_graph = size_of_chessboard * size_of_chessboard\n",
    "    \n",
    "    graph = []\n",
    "        \n",
    "    for n in range(size_of_graph):\n",
    "        graph.append([])\n",
    "        n_i, n_j = num2index(n, size_of_chessboard = size_of_chessboard)\n",
    "        for t in range(8):\n",
    "            reachable_i = n_i + knight_moves_i[t]\n",
    "            reachable_j = n_j + knight_moves_j[t]\n",
    "            if (0 <= reachable_i < size_of_chessboard) and \\\n",
    "               (0 <= reachable_j < size_of_chessboard) :\n",
    "                graph[n].append(index2num(reachable_i, reachable_j, \n",
    "                                size_of_chessboard = size_of_chessboard))\n",
    "    return graph\n",
    "\n",
    "def bfs(src,dest,graph):\n",
    "    q = Queue.Queue()\n",
    "    size = len(graph)\n",
    "    distance = [size + 1] * size\n",
    "    distance[src] = 0\n",
    "    q.put(src)\n",
    "    step = size\n",
    "    while(~q.empty()):    \n",
    "        node = q.get()\n",
    "        \n",
    "        \n",
    "        if node == dest:\n",
    "                step = distance[node]\n",
    "                break\n",
    "                \n",
    "        for reachable in graph[node]:\n",
    "            if distance[reachable] >= size:\n",
    "                q.put(reachable)\n",
    "                distance[reachable] = distance[node] + 1\n",
    "            \n",
    "    return step\n",
    "    \n",
    "        "
   ]
  },
  {
   "cell_type": "code",
   "execution_count": 25,
   "metadata": {},
   "outputs": [
    {
     "data": {
      "text/plain": [
       "3"
      ]
     },
     "execution_count": 25,
     "metadata": {},
     "output_type": "execute_result"
    }
   ],
   "source": [
    "answer(0,1)"
   ]
  },
  {
   "cell_type": "code",
   "execution_count": null,
   "metadata": {
    "collapsed": true
   },
   "outputs": [],
   "source": []
  }
 ],
 "metadata": {
  "kernelspec": {
   "display_name": "Python 2",
   "language": "python",
   "name": "python2"
  },
  "language_info": {
   "codemirror_mode": {
    "name": "ipython",
    "version": 2
   },
   "file_extension": ".py",
   "mimetype": "text/x-python",
   "name": "python",
   "nbconvert_exporter": "python",
   "pygments_lexer": "ipython2",
   "version": "2.7.13"
  }
 },
 "nbformat": 4,
 "nbformat_minor": 2
}
